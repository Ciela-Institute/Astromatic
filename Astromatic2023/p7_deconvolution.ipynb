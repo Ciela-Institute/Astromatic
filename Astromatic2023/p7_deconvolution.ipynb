{
 "cells": [
  {
   "cell_type": "markdown",
   "metadata": {
    "id": "Lcvb9cmLHR2M"
   },
   "source": [
    "# Problem 7\n",
    "## PSF deconvolution with Score-based modeling\n",
    "Most images coming from galaxy surveys do not look as sharp as Hubble Space Telescope (HST) or James Webb Space Telescope (JWST) images. Images are observed through the response function of the instrument used to observed the true sky brightness. This response is most commonly refered to as the point spread function (PSF), the function that spreads a point into a specific profile over the detector pixels. \n",
    "\n",
    "With the emergence of deep-generative models like score-based models, we can leverage a very expressive prior distribution learned from data (e.g. high resolution \n",
    "HST or HWST images) and turn the ill-posed inverse problem of deblurring images from other telescopes into a Bayesien posterior sampling problem. \n",
    "\n",
    "## Problem description :\n",
    "###\n",
    "- Given a blurry and noisy image of a galaxy and the point spread function that blurred it, infer the posterior of images that could have produced your observation. You will start working with simulations alongside a Gaussian PSF, and try to reproduce images of similar quality as the original data. \n",
    "\n",
    "## What's the main issue?\n",
    "- Astronomical images are always blurred to some degree by a point spread function (PSF), which is the response of the telescope's imaging system to point sources. This obscures detail that might otherwise be astrophysically relevant. Optimal deconvolution is an unsolved problem.\n",
    "\n",
    "## Score-based modeling\n",
    "...\n",
    "\n",
    "## Problem setup and milestone estimators\n",
    "\n",
    "\n",
    "## List of 5 papers that might be of help\n",
    "- https://iopscience.iop.org/article/10.1086/342606/pdf : Deconvolution in Astronomy: A Review (2002)\n",
    "- https://arxiv.org/abs/2203.07412 : ShapeNet: Shape constraint for galaxy image deconvolution (2022)\n",
    "- https://arxiv.org/abs/1911.00443 : Deep Learning for space-invariant deconvolution in galaxy surveys (2020)\n",
    "- https://arxiv.org/abs/1107.4629 : Precision simulation of ground-based lensing data using observations from space (2012)\n",
    "- https://arxiv.org/abs/2110.11598 : A Method To Characterize the Wide-Angle Point Spread Function of Astronomical Images (2022)\n"
   ]
  },
  {
   "cell_type": "code",
   "execution_count": 9,
   "metadata": {
    "colab": {
     "base_uri": "https://localhost:8080/"
    },
    "executionInfo": {
     "elapsed": 31838,
     "status": "ok",
     "timestamp": 1659136420971,
     "user": {
      "displayName": "Adam Coogan",
      "userId": "01999256457564997861"
     },
     "user_tz": 240
    },
    "id": "dIGwjP1led5s",
    "outputId": "a532feaf-dd07-4556-a13a-d8ef1b8cb115",
    "tags": []
   },
   "outputs": [
    {
     "ename": "ImportError",
     "evalue": "cannot import name 'deconvolve_fft' from 'p7_simulator' (/home/alexandre/Desktop/Projects/Astromatic/Astromatic2023/p7_simulator.py)",
     "output_type": "error",
     "traceback": [
      "\u001b[0;31m---------------------------------------------------------------------------\u001b[0m",
      "\u001b[0;31mImportError\u001b[0m                               Traceback (most recent call last)",
      "Cell \u001b[0;32mIn[9], line 14\u001b[0m\n\u001b[1;32m     11\u001b[0m path \u001b[38;5;241m=\u001b[39m \u001b[38;5;124m\"\u001b[39m\u001b[38;5;124mdrive/MyDrive/Astromatic2023/Problem7/\u001b[39m\u001b[38;5;124m\"\u001b[39m\n\u001b[1;32m     12\u001b[0m \u001b[38;5;66;03m# import sys\u001b[39;00m\n\u001b[1;32m     13\u001b[0m \u001b[38;5;66;03m# sys.path.append(path)\u001b[39;00m\n\u001b[0;32m---> 14\u001b[0m \u001b[38;5;28;01mfrom\u001b[39;00m \u001b[38;5;21;01mp7_simulator\u001b[39;00m \u001b[38;5;28;01mimport\u001b[39;00m make_forward_model, deconvolve_fft, deconvolve_lucyrichardson\n",
      "\u001b[0;31mImportError\u001b[0m: cannot import name 'deconvolve_fft' from 'p7_simulator' (/home/alexandre/Desktop/Projects/Astromatic/Astromatic2023/p7_simulator.py)"
     ]
    }
   ],
   "source": [
    "# from google.colab import drive\n",
    "# drive.mount('/content/drive')\n",
    "\n",
    "import torch\n",
    "import numpy as np\n",
    "import matplotlib.pyplot as plt\n",
    "\n",
    "DEVICE = torch.device('cuda:0' if torch.cuda.is_available() else \"cpu\")\n",
    "\n",
    "path = \"drive/MyDrive/Astromatic2023/Problem7/\"\n",
    "# import sys\n",
    "# sys.path.append(path)\n",
    "from p7_simulator import make_forward_model, deconvolve_fft, deconvolve_lucyrichardson"
   ]
  },
  {
   "cell_type": "markdown",
   "metadata": {
    "id": "qx06fL4xoYTe"
   },
   "source": [
    "## Classical solutions for deconvolution"
   ]
  },
  {
   "cell_type": "code",
   "execution_count": null,
   "metadata": {
    "id": "Gc1vJVjooXUc"
   },
   "outputs": [],
   "source": []
  },
  {
   "cell_type": "markdown",
   "metadata": {
    "id": "d2RpVI7IpWZQ"
   },
   "source": [
    "# Deconvolution demo\n",
    "Let's have a look at a sample of patches of sky in the baseline dataset:"
   ]
  }
 ],
 "metadata": {
  "accelerator": "GPU",
  "colab": {
   "collapsed_sections": [
    "kiQaZMhoiVGV",
    "qx06fL4xoYTe",
    "fwPaHKQhX9EB",
    "Jgmz16LpbH7k"
   ],
   "name": "Problem7.ipynb",
   "provenance": []
  },
  "gpuClass": "standard",
  "kernelspec": {
   "display_name": "caustic",
   "language": "python",
   "name": "caustic"
  },
  "language_info": {
   "codemirror_mode": {
    "name": "ipython",
    "version": 3
   },
   "file_extension": ".py",
   "mimetype": "text/x-python",
   "name": "python",
   "nbconvert_exporter": "python",
   "pygments_lexer": "ipython3",
   "version": "3.9.16"
  }
 },
 "nbformat": 4,
 "nbformat_minor": 4
}
