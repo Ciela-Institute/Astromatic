{
 "cells": [
  {
   "cell_type": "code",
   "execution_count": 1,
   "metadata": {},
   "outputs": [],
   "source": [
    "import numpy as np\n",
    "import matplotlib.pyplot as plt"
   ]
  },
  {
   "cell_type": "markdown",
   "metadata": {},
   "source": [
    "# Theory of Regression\n",
    "\n",
    "Suppose we can establish a linear relationship between $x$ and $y$:\n",
    "$$ y = \\beta_1 x + \\beta_0 + \\epsilon $$\n",
    "- $\\beta_0$ and $\\beta_1$ are the parameters we wish to retrieve\n",
    "- $\\epsilon$ is noise corrupting our observation\n",
    "\n",
    "To retrieve the parameters $A$ and $B$, we go out and sample a dataset (we make some measurment)"
   ]
  },
  {
   "cell_type": "code",
   "execution_count": 7,
   "metadata": {},
   "outputs": [
    {
     "data": {
      "text/plain": [
       "Text(0, 0.5, 'y')"
      ]
     },
     "execution_count": 7,
     "metadata": {},
     "output_type": "execute_result"
    },
    {
     "data": {
      "image/png": "[encoded data removed]",
      "text/plain": [
       "<Figure size 432x288 with 1 Axes>"
      ]
     },
     "metadata": {
      "needs_background": "light"
     },
     "output_type": "display_data"
    }
   ],
   "source": [
    "# true parameters\n",
    "beta_1 = 2\n",
    "beta_2 = 3\n",
    "\n",
    "# Determine the noise amplitude\n",
    "sigma = 0.3\n",
    "\n",
    "# Build a dataset\n",
    "N = 100 # number of observations\n",
    "x = np.linspace(-1, 1, N)\n",
    "y = beta_1 * x + beta_2 + np.random.normal(size=N, scale=sigma)\n",
    "plt.plot(x, y, \"r.\", label=\"Observed\")\n",
    "plt.plot(x, beta_1*x + beta_2, \"k--\", label=\"True relation\")\n",
    "plt.xlabel(\"x\")\n",
    "plt.ylabel(\"y\")"
   ]
  },
  {
   "cell_type": "markdown",
   "metadata": {},
   "source": [
    "# Least square estimate"
   ]
  },
  {
   "cell_type": "code",
   "execution_count": null,
   "metadata": {},
   "outputs": [],
   "source": []
  }
 ],
 "metadata": {
  "kernelspec": {
   "display_name": "Python 3",
   "language": "python",
   "name": "python3"
  },
  "language_info": {
   "codemirror_mode": {
    "name": "ipython",
    "version": 3
   },
   "file_extension": ".py",
   "mimetype": "text/x-python",
   "name": "python",
   "nbconvert_exporter": "python",
   "pygments_lexer": "ipython3",
   "version": "3.7.6"
  }
 },
 "nbformat": 4,
 "nbformat_minor": 4
}
