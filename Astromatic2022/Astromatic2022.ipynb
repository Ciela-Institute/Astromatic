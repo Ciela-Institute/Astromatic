{
 "cells": [
  {
   "cell_type": "code",
   "execution_count": 3,
   "metadata": {},
   "outputs": [],
   "source": [
    "# import stuff\n",
    "import tensorflow as tf\n",
    "import numpy as np\n",
    "import matplotlib.pyplot as plt\n",
    "import matplotlib.gridspec as gridspec"
   ]
  },
  {
   "cell_type": "code",
   "execution_count": 12,
   "metadata": {},
   "outputs": [],
   "source": [
    "def g(x):\n",
    "    y = x**2.+3.4*x**4.-6.6*x**3.-4.\n",
    "    \n",
    "    noise = np.random.normal(0, .5, size=(x.shape))\n",
    "    \n",
    "    y_obs = y + noise\n",
    "    \n",
    "    return y, y_obs"
   ]
  },
  {
   "cell_type": "code",
   "execution_count": 14,
   "metadata": {},
   "outputs": [
    {
     "data": {
      "text/plain": [
       "<function matplotlib.pyplot.show(close=None, block=None)>"
      ]
     },
     "execution_count": 14,
     "metadata": {},
     "output_type": "execute_result"
    },
    {
     "data": {
      "image/png": "[encoded data removed]",
      "text/plain": [
       "<Figure size 432x288 with 1 Axes>"
      ]
     },
     "metadata": {
      "needs_background": "light"
     },
     "output_type": "display_data"
    }
   ],
   "source": [
    "X = np.random.uniform(low=0.0, high=2., size=(100))\n",
    "Ytruth, Yobs = g(X)\n",
    "plt.errorbar(X, Yobs, yerr=0.5, fmt=\".r\", capsize=0)\n",
    "plt.plot(X,Ytruth,'bo', markersize=1)\n",
    "plt.show"
   ]
  },
  {
   "cell_type": "code",
   "execution_count": 3,
   "metadata": {},
   "outputs": [],
   "source": [
    "class Two_Layer_NN(tf.keras.Model):\n",
    "    def __init__(self):\n",
    "        super().__init__()\n",
    "        self._input_shape = [-1, 1, 1, 1]\n",
    "        self._output_shape = [-1, 1, 1, 1]\n",
    "        self.fc1 = tf.keras.layers.Dense(20, activation= 'sigmoid')\n",
    "        self.fc2 = tf.keras.layers.Dense(1, activation= 'linear')\n",
    "    \n",
    "    def forward_pass(self, x):\n",
    "        x = tf.reshape(x, self._input_shape)\n",
    "        x = self.fc1(x)\n",
    "        y_pred = self.fc2(x)\n",
    "        return y_pred\n",
    "            \n",
    "    def loss_fun(self, X, Y):\n",
    "        Y = tf.reshape(Y, self._output_shape)\n",
    "\n",
    "        \n",
    "        \n",
    "        y_pred = self.forward_pass(X)\n",
    "        loss = tf.reduce_mean(tf.pow(y_pred - Y,2))\n",
    "        return loss, y_pred"
   ]
  },
  {
   "cell_type": "code",
   "execution_count": 13,
   "metadata": {},
   "outputs": [],
   "source": [
    "DeuxLNN = Two_Layer_NN()"
   ]
  },
  {
   "cell_type": "code",
   "execution_count": 14,
   "metadata": {},
   "outputs": [],
   "source": [
    "# Instantiate an optimizer.\n",
    "optimizer = tf.keras.optimizers.SGD(learning_rate=5e-2)"
   ]
  },
  {
   "cell_type": "code",
   "execution_count": 8,
   "metadata": {},
   "outputs": [],
   "source": [
    "# Generate a training set.\n",
    "Xtr = np.random.uniform(low=0.0, high=2., size=(1000))\n",
    "Ytruth, Ytr = g(Xtr)\n",
    "batch_size =2\n",
    "\n",
    "# Prepare the training dataset.\n",
    "train_dataset = tf.data.Dataset.from_tensor_slices((Xtr, Ytr))\n",
    "train_dataset = train_dataset.shuffle(buffer_size=2048).batch(batch_size)"
   ]
  },
  {
   "cell_type": "code",
   "execution_count": 21,
   "metadata": {
    "scrolled": true
   },
   "outputs": [
    {
     "name": "stdout",
     "output_type": "stream",
     "text": [
      "\n",
      "Start of epoch 0\n",
      "Training loss (for one batch) at step 0: 0.0017\n",
      "Seen so far: 2 samples\n",
      "Training loss (for one batch) at step 200: 0.0081\n",
      "Seen so far: 402 samples\n",
      "Training loss (for one batch) at step 400: 0.1196\n",
      "Seen so far: 802 samples\n",
      "\n",
      "Start of epoch 1\n",
      "Training loss (for one batch) at step 0: 0.0812\n",
      "Seen so far: 2 samples\n",
      "Training loss (for one batch) at step 200: 0.0057\n",
      "Seen so far: 402 samples\n",
      "Training loss (for one batch) at step 400: 0.0062\n",
      "Seen so far: 802 samples\n",
      "\n",
      "Start of epoch 2\n",
      "Training loss (for one batch) at step 0: 0.1281\n",
      "Seen so far: 2 samples\n",
      "Training loss (for one batch) at step 200: 0.2061\n",
      "Seen so far: 402 samples\n",
      "Training loss (for one batch) at step 400: 0.0462\n",
      "Seen so far: 802 samples\n",
      "\n",
      "Start of epoch 3\n",
      "Training loss (for one batch) at step 0: 0.0678\n",
      "Seen so far: 2 samples\n",
      "Training loss (for one batch) at step 200: 0.0211\n",
      "Seen so far: 402 samples\n",
      "Training loss (for one batch) at step 400: 0.0286\n",
      "Seen so far: 802 samples\n",
      "\n",
      "Start of epoch 4\n",
      "Training loss (for one batch) at step 0: 0.0016\n",
      "Seen so far: 2 samples\n",
      "Training loss (for one batch) at step 200: 0.1730\n",
      "Seen so far: 402 samples\n",
      "Training loss (for one batch) at step 400: 0.1335\n",
      "Seen so far: 802 samples\n",
      "\n",
      "Start of epoch 5\n",
      "Training loss (for one batch) at step 0: 0.4219\n",
      "Seen so far: 2 samples\n",
      "Training loss (for one batch) at step 200: 0.0577\n",
      "Seen so far: 402 samples\n",
      "Training loss (for one batch) at step 400: 0.0084\n",
      "Seen so far: 802 samples\n",
      "\n",
      "Start of epoch 6\n",
      "Training loss (for one batch) at step 0: 0.3433\n",
      "Seen so far: 2 samples\n",
      "Training loss (for one batch) at step 200: 0.0110\n",
      "Seen so far: 402 samples\n",
      "Training loss (for one batch) at step 400: 0.0546\n",
      "Seen so far: 802 samples\n",
      "\n",
      "Start of epoch 7\n",
      "Training loss (for one batch) at step 0: 0.0044\n",
      "Seen so far: 2 samples\n",
      "Training loss (for one batch) at step 200: 0.0116\n",
      "Seen so far: 402 samples\n",
      "Training loss (for one batch) at step 400: 0.0061\n",
      "Seen so far: 802 samples\n",
      "\n",
      "Start of epoch 8\n",
      "Training loss (for one batch) at step 0: 0.0400\n",
      "Seen so far: 2 samples\n",
      "Training loss (for one batch) at step 200: 0.0415\n",
      "Seen so far: 402 samples\n",
      "Training loss (for one batch) at step 400: 0.0930\n",
      "Seen so far: 802 samples\n",
      "\n",
      "Start of epoch 9\n",
      "Training loss (for one batch) at step 0: 0.1380\n",
      "Seen so far: 2 samples\n",
      "Training loss (for one batch) at step 200: 0.0023\n",
      "Seen so far: 402 samples\n",
      "Training loss (for one batch) at step 400: 0.0216\n",
      "Seen so far: 802 samples\n"
     ]
    }
   ],
   "source": [
    "epochs = 10\n",
    "for epoch in range(epochs):\n",
    "    print(\"\\nStart of epoch %d\" % (epoch,))\n",
    "\n",
    "    # Iterate over the batches of the dataset.\n",
    "    for step, (X_tr, Y_tr) in enumerate(train_dataset):\n",
    "    #for step in range(1000):\n",
    "        \n",
    "\n",
    "        # Open a GradientTape to record the operations run\n",
    "        # during the forward pass, which enables auto-differentiation.\n",
    "        with tf.GradientTape() as tape:\n",
    "\n",
    "            # Compute the loss value for this minibatch.\n",
    "            loss_value, Y_pred = DeuxLNN.loss_fun(tf.cast(X_tr, float), tf.cast(Y_tr, float))\n",
    "\n",
    "        # Use the gradient tape to automatically retrieve\n",
    "        # the gradients of the trainable variables with respect to the loss.\n",
    "        grads = tape.gradient(loss_value, DeuxLNN.trainable_weights)\n",
    "\n",
    "        # Run one step of gradient descent by updating\n",
    "        # the value of the variables to minimize the loss.\n",
    "        optimizer.apply_gradients(zip(grads, DeuxLNN.trainable_weights))\n",
    "\n",
    "        # Log every 200 batches.\n",
    "        if step % 200 == 0:\n",
    "            print(\n",
    "                \"Training loss (for one batch) at step %d: %.4f\"\n",
    "                % (step, float(loss_value))\n",
    "            )\n",
    "            print(\"Seen so far: %s samples\" % ((step + 1) * batch_size))"
   ]
  },
  {
   "cell_type": "code",
   "execution_count": 11,
   "metadata": {},
   "outputs": [],
   "source": [
    "# Generate a test set.\n",
    "Xtest = np.random.uniform(low=0.0, high=2., size=(1000))\n",
    "Ytest,  Yobs = g(Xtest)"
   ]
  },
  {
   "cell_type": "code",
   "execution_count": 22,
   "metadata": {},
   "outputs": [],
   "source": [
    "Y_predtest= DeuxLNN.forward_pass(Xtest)"
   ]
  },
  {
   "cell_type": "code",
   "execution_count": 23,
   "metadata": {},
   "outputs": [
    {
     "data": {
      "image/png": "[encoded data removed]",
      "text/plain": [
       "<Figure size 432x288 with 1 Axes>"
      ]
     },
     "metadata": {
      "needs_background": "light"
     },
     "output_type": "display_data"
    }
   ],
   "source": [
    "\n",
    "plt.plot(Xtest,Y_predtest.numpy().reshape(1000,), 'bo', markersize=4)\n",
    "plt.plot(Xtest,Ytest, 'ro', markersize=4)\n",
    "plt.show()"
   ]
  },
  {
   "cell_type": "code",
   "execution_count": null,
   "metadata": {},
   "outputs": [],
   "source": []
  },
  {
   "cell_type": "markdown",
   "metadata": {},
   "source": [
    "# Make it an approximate BNN!"
   ]
  },
  {
   "cell_type": "code",
   "execution_count": 22,
   "metadata": {},
   "outputs": [],
   "source": [
    "class Two_Layer_BNN(tf.keras.Model):\n",
    "    def __init__(self):\n",
    "        super().__init__()\n",
    "        self._input_shape = [-1, 1, 1]\n",
    "        self._output_shape = [-1, 1, 1]\n",
    "        #you can make your network deeper since you are adding dropout\n",
    "        self.fc1 = tf.keras.layers.Dense(20, activation= 'sigmoid')\n",
    "        #add dropout after every weight layer\n",
    "        self.do1 = tf.keras.layers.Dropout(0.1)\n",
    "        self.fc2 = tf.keras.layers.Dense(20, activation= 'sigmoid')\n",
    "        #add dropout after every weight layer\n",
    "        self.do2 = tf.keras.layers.Dropout(0.1)\n",
    "        #Change the output so you now predict mu and sigma\n",
    "        self.fc3 = tf.keras.layers.Dense(2, activation= 'linear')\n",
    "    \n",
    "    def forward_pass(self, x):\n",
    "        x = tf.reshape(x, self._input_shape)\n",
    "        x = self.fc1(x)\n",
    "        x = self.do1(x, training=True)\n",
    "        x = self.fc2(x)\n",
    "        x = self.do2(x, training=True)\n",
    "        x = self.fc3(x)\n",
    "        mu_pred = x[:,:,0]\n",
    "        sigma_pred =x[:,:,1]\n",
    "        return mu_pred, sigma_pred\n",
    "            \n",
    "    def loss_fun(self, X, Y):\n",
    "        Y = tf.reshape(Y, self._output_shape)      \n",
    "        mu_pred, sigma_pred = self.forward_pass(X)\n",
    "        #change the loss to the log likelihood\n",
    "        loss = tf.reduce_mean(tf.pow(mu_pred - Y,2)*tf.math.exp(-sigma_pred)+sigma_pred)\n",
    "        return loss, mu_pred, sigma_pred \n",
    "    \n",
    "    \n",
    "        \n",
    "        "
   ]
  },
  {
   "cell_type": "code",
   "execution_count": null,
   "metadata": {},
   "outputs": [],
   "source": []
  },
  {
   "cell_type": "code",
   "execution_count": 23,
   "metadata": {},
   "outputs": [],
   "source": [
    "BNN = Two_Layer_BNN()\n"
   ]
  },
  {
   "cell_type": "code",
   "execution_count": 35,
   "metadata": {},
   "outputs": [],
   "source": [
    "optimizer2 = tf.keras.optimizers.SGD(learning_rate=1e-2)"
   ]
  },
  {
   "cell_type": "code",
   "execution_count": null,
   "metadata": {
    "scrolled": true
   },
   "outputs": [
    {
     "name": "stdout",
     "output_type": "stream",
     "text": [
      "\n",
      "Start of epoch 0\n",
      "Training loss (for one batch) at step 0: 3.8523\n",
      "Seen so far: 2 samples\n",
      "Training loss (for one batch) at step 200: 0.5843\n",
      "Seen so far: 402 samples\n",
      "Training loss (for one batch) at step 400: 0.5828\n",
      "Seen so far: 802 samples\n",
      "\n",
      "Start of epoch 1\n",
      "Training loss (for one batch) at step 0: 0.9680\n",
      "Seen so far: 2 samples\n",
      "Training loss (for one batch) at step 200: 1.5249\n",
      "Seen so far: 402 samples\n",
      "Training loss (for one batch) at step 400: 0.9080\n",
      "Seen so far: 802 samples\n",
      "\n",
      "Start of epoch 2\n",
      "Training loss (for one batch) at step 0: 0.7434\n",
      "Seen so far: 2 samples\n",
      "Training loss (for one batch) at step 200: 4.0577\n",
      "Seen so far: 402 samples\n",
      "Training loss (for one batch) at step 400: 1.1834\n",
      "Seen so far: 802 samples\n",
      "\n",
      "Start of epoch 3\n",
      "Training loss (for one batch) at step 0: 1.2758\n",
      "Seen so far: 2 samples\n",
      "Training loss (for one batch) at step 200: 1.2304\n",
      "Seen so far: 402 samples\n",
      "Training loss (for one batch) at step 400: 0.5511\n",
      "Seen so far: 802 samples\n",
      "\n",
      "Start of epoch 4\n",
      "Training loss (for one batch) at step 0: 0.8228\n",
      "Seen so far: 2 samples\n",
      "Training loss (for one batch) at step 200: 0.6741\n",
      "Seen so far: 402 samples\n",
      "Training loss (for one batch) at step 400: 2.4350\n",
      "Seen so far: 802 samples\n",
      "\n",
      "Start of epoch 5\n",
      "Training loss (for one batch) at step 0: 0.9696\n",
      "Seen so far: 2 samples\n",
      "Training loss (for one batch) at step 200: 1.0424\n",
      "Seen so far: 402 samples\n",
      "Training loss (for one batch) at step 400: 2.2404\n",
      "Seen so far: 802 samples\n",
      "\n",
      "Start of epoch 6\n",
      "Training loss (for one batch) at step 0: 0.9674\n",
      "Seen so far: 2 samples\n",
      "Training loss (for one batch) at step 200: 2.1161\n",
      "Seen so far: 402 samples\n",
      "Training loss (for one batch) at step 400: 2.6489\n",
      "Seen so far: 802 samples\n",
      "\n",
      "Start of epoch 7\n",
      "Training loss (for one batch) at step 0: 1.5788\n",
      "Seen so far: 2 samples\n",
      "Training loss (for one batch) at step 200: 1.0539\n",
      "Seen so far: 402 samples\n",
      "Training loss (for one batch) at step 400: 2.3622\n",
      "Seen so far: 802 samples\n",
      "\n",
      "Start of epoch 8\n",
      "Training loss (for one batch) at step 0: 0.5498\n",
      "Seen so far: 2 samples\n",
      "Training loss (for one batch) at step 200: 5.7418\n",
      "Seen so far: 402 samples\n",
      "Training loss (for one batch) at step 400: 1.9424\n",
      "Seen so far: 802 samples\n",
      "\n",
      "Start of epoch 9\n",
      "Training loss (for one batch) at step 0: 2.0840\n",
      "Seen so far: 2 samples\n",
      "Training loss (for one batch) at step 200: 0.8359\n",
      "Seen so far: 402 samples\n",
      "Training loss (for one batch) at step 400: 6.9437\n",
      "Seen so far: 802 samples\n",
      "\n",
      "Start of epoch 10\n",
      "Training loss (for one batch) at step 0: 1.1677\n",
      "Seen so far: 2 samples\n",
      "Training loss (for one batch) at step 200: 0.8245\n",
      "Seen so far: 402 samples\n",
      "Training loss (for one batch) at step 400: 1.8335\n",
      "Seen so far: 802 samples\n",
      "\n",
      "Start of epoch 11\n",
      "Training loss (for one batch) at step 0: 0.6461\n",
      "Seen so far: 2 samples\n",
      "Training loss (for one batch) at step 200: 1.8768\n",
      "Seen so far: 402 samples\n",
      "Training loss (for one batch) at step 400: 1.7566\n",
      "Seen so far: 802 samples\n",
      "\n",
      "Start of epoch 12\n",
      "Training loss (for one batch) at step 0: 2.0319\n",
      "Seen so far: 2 samples\n",
      "Training loss (for one batch) at step 200: 1.2635\n",
      "Seen so far: 402 samples\n",
      "Training loss (for one batch) at step 400: 1.2521\n",
      "Seen so far: 802 samples\n",
      "\n",
      "Start of epoch 13\n",
      "Training loss (for one batch) at step 0: 2.2034\n",
      "Seen so far: 2 samples\n",
      "Training loss (for one batch) at step 200: 0.8605\n",
      "Seen so far: 402 samples\n",
      "Training loss (for one batch) at step 400: 0.8063\n",
      "Seen so far: 802 samples\n",
      "\n",
      "Start of epoch 14\n",
      "Training loss (for one batch) at step 0: 1.9106\n",
      "Seen so far: 2 samples\n",
      "Training loss (for one batch) at step 200: 1.0580\n",
      "Seen so far: 402 samples\n",
      "Training loss (for one batch) at step 400: 1.2252\n",
      "Seen so far: 802 samples\n",
      "\n",
      "Start of epoch 15\n",
      "Training loss (for one batch) at step 0: 2.2770\n",
      "Seen so far: 2 samples\n",
      "Training loss (for one batch) at step 200: 1.6181\n",
      "Seen so far: 402 samples\n",
      "Training loss (for one batch) at step 400: 1.5930\n",
      "Seen so far: 802 samples\n",
      "\n",
      "Start of epoch 16\n",
      "Training loss (for one batch) at step 0: 2.2884\n",
      "Seen so far: 2 samples\n",
      "Training loss (for one batch) at step 200: 0.7406\n",
      "Seen so far: 402 samples\n",
      "Training loss (for one batch) at step 400: 0.9136\n",
      "Seen so far: 802 samples\n"
     ]
    }
   ],
   "source": [
    "epochs = 20\n",
    "for epoch in range(epochs):\n",
    "    print(\"\\nStart of epoch %d\" % (epoch,))\n",
    "\n",
    "    # Iterate over the batches of the dataset.\n",
    "    for step, (X_tr, Y_tr) in enumerate(train_dataset):\n",
    "    #for step in range(1000):\n",
    "        \n",
    "\n",
    "        # Open a GradientTape to record the operations run\n",
    "        # during the forward pass, which enables auto-differentiation.\n",
    "        with tf.GradientTape() as tape:\n",
    "\n",
    "            # Compute the loss value for this minibatch.\n",
    "            loss_value, Y_pred, sig_pred = BNN.loss_fun(tf.cast(X_tr, float), tf.cast(Y_tr, float))\n",
    "\n",
    "        # Use the gradient tape to automatically retrieve\n",
    "        # the gradients of the trainable variables with respect to the loss.\n",
    "        grads = tape.gradient(loss_value, BNN.trainable_weights)\n",
    "\n",
    "        # Run one step of gradient descent by updating\n",
    "        # the value of the variables to minimize the loss.\n",
    "        optimizer2.apply_gradients(zip(grads, BNN.trainable_weights))\n",
    "\n",
    "        # Log every 200 batches.\n",
    "        if step % 200 == 0:\n",
    "            print(\n",
    "                \"Training loss (for one batch) at step %d: %.4f\"\n",
    "                % (step, float(loss_value))\n",
    "            )\n",
    "            print(\"Seen so far: %s samples\" % ((step + 1) * batch_size))"
   ]
  },
  {
   "cell_type": "code",
   "execution_count": 33,
   "metadata": {},
   "outputs": [],
   "source": [
    "mu_predtest, sigma_predtest = BNN.forward_pass(Xtest) #<-- the forward pass should be done multiple times, everytime appending the outputs. Here it's done just once\n",
    "Ytestpred= np.random.normal(mu_predtest.numpy(), np.exp(sigma_predtest.numpy()/2) )"
   ]
  },
  {
   "cell_type": "code",
   "execution_count": null,
   "metadata": {},
   "outputs": [],
   "source": []
  },
  {
   "cell_type": "code",
   "execution_count": 34,
   "metadata": {},
   "outputs": [
    {
     "data": {
      "image/png": "[encoded data removed]",
      "text/plain": [
       "<Figure size 432x288 with 1 Axes>"
      ]
     },
     "metadata": {
      "needs_background": "light"
     },
     "output_type": "display_data"
    }
   ],
   "source": [
    "plt.plot(Xtest,Ytestpred.reshape(1000,), 'bo')\n",
    "plt.plot(Xtest,Ytest, 'ro')\n",
    "plt.show()"
   ]
  },
  {
   "cell_type": "code",
   "execution_count": null,
   "metadata": {},
   "outputs": [],
   "source": []
  },
  {
   "cell_type": "markdown",
   "metadata": {},
   "source": [
    "# Likelihood-Free Inference"
   ]
  },
  {
   "cell_type": "markdown",
   "metadata": {},
   "source": [
    "You can use LFI to do the same task of learning the function g(x), assuming that we know the polynomial form of g(x) and want to learn the coefficients. Here I'm assuming the polynomial form y = x^2.+3.4*x^4.-6.6*x^3.-4. to have a few coefficients to learn. The main difference is that we don't need to evaluate the likelihood. Instead, we learn a surrogate for if by observing the mapping between the parameters of interest, theta, and the observations, through a simulator that produces noisy simulations."
   ]
  },
  {
   "cell_type": "code",
   "execution_count": null,
   "metadata": {},
   "outputs": [],
   "source": [
    "import numpy as np\n",
    "import matplotlib.pyplot as plt\n",
    "%matplotlib inline\n",
    "import matplotlib.gridspec as gridspec\n",
    "import torch"
   ]
  },
  {
   "cell_type": "code",
   "execution_count": 1,
   "metadata": {},
   "outputs": [],
   "source": [
    "from sbi import utils as utils\n",
    "import corner"
   ]
  },
  {
   "cell_type": "code",
   "execution_count": null,
   "metadata": {},
   "outputs": [],
   "source": [
    "prior = utils.BoxUniform(low=torch.tensor(-8), high=torch.tensor(4))"
   ]
  },
  {
   "cell_type": "code",
   "execution_count": null,
   "metadata": {},
   "outputs": [],
   "source": [
    "theta = [1., 3.4, -6.6, -4.]\n",
    "x = np.random.uniform(low=0.0, high=2., size=(100))\n",
    "def simulator(theta, x):\n",
    "\n",
    "    # signal model\n",
    "    a, b, c, d = theta\n",
    "    \n",
    "    y_model = a*torch.pow(x,2.)+b*torch.pow(x,4.)-c*torch.pow(x,3.)-d\n",
    "    \n",
    "    # add noise \n",
    "    y = y_model + 0.1 * torch.randn(len(x))\n",
    "\n",
    "    return y\n"
   ]
  },
  {
   "cell_type": "code",
   "execution_count": null,
   "metadata": {
    "scrolled": true
   },
   "outputs": [],
   "source": [
    "# Plot the output of the noisy simulator\n",
    "plt.errorbar(x, simulator(torch.tensor(theta)), yerr=0.1, fmt=\".r\", capsize=0)"
   ]
  },
  {
   "cell_type": "markdown",
   "metadata": {},
   "source": [
    "Let's now use sbi to train a neural posterior estimator from these samples. The goal here will be to infer the coefficient of the polynomial. sbi will train a conditional normalizing flow to estimate the posterior of those parameters given the data. "
   ]
  },
  {
   "cell_type": "code",
   "execution_count": null,
   "metadata": {},
   "outputs": [],
   "source": []
  },
  {
   "cell_type": "code",
   "execution_count": null,
   "metadata": {},
   "outputs": [],
   "source": [
    "from sbi.inference.base import infer\n",
    "\n",
    "this_simulator = lambda theta: simulator(theta, torch.tensor(x))\n",
    "\n",
    "posterior = infer(this_simulator, prior, method='SNPE', num_simulations=10000)"
   ]
  },
  {
   "cell_type": "markdown",
   "metadata": {},
   "source": [
    "At inference time, we want to evaluate our neural posterior estimator conditioned on y, the actual observed data."
   ]
  },
  {
   "cell_type": "code",
   "execution_count": null,
   "metadata": {},
   "outputs": [],
   "source": [
    "sbi_samples = posterior.sample((10000,), x=torch.tensor(y))\n",
    "sbi_samples = sbi_samples.detach().numpy()"
   ]
  },
  {
   "cell_type": "code",
   "execution_count": null,
   "metadata": {},
   "outputs": [],
   "source": [
    "corner.corner(sbi_samples, labels=labels, truths=theta)"
   ]
  },
  {
   "cell_type": "markdown",
   "metadata": {},
   "source": [
    "# MCMC"
   ]
  },
  {
   "cell_type": "markdown",
   "metadata": {},
   "source": [
    "Alternatively, one can also write a fully Bayesian NN and learn the distribution over the weights by sampling with an MCMC algorithm. emcee is an excellent package to do that. All it requires is to define the relevant distributions and we're good to go!\n"
   ]
  },
  {
   "cell_type": "code",
   "execution_count": 16,
   "metadata": {},
   "outputs": [],
   "source": [
    "#First define the 'physical model', which is the neural network itself, in numpy. \n",
    "#Let's make just 2 layers so the dimensionality of the space we need to sample over is not too large.\n",
    "\n",
    "# H= ... <--- decide how wide the hidden layer needs to be.\n",
    "#initialize the weight matrices and the biases.\n",
    "# W_1 = np.random.randn(1,H)\n",
    "# self.b_1 = np.random.randn(1,H)\n",
    "# self.W_2 = np.random.randn(H,1)\n",
    "# self.b_2 = np.random.randn(1,1)\n",
    "\n",
    "NumpyNN_forward_pass(X, W_1, b_1, W_2, b_2):\n",
    "        self.h = X.dot(self.W_1)+self.b_1\n",
    "        self.hact = 1./(1.+np.exp(-self.h))\n",
    "        y_pred = self.hact.dot(self.W_2)+self.b_2\n",
    "        return y_pred\n",
    "\n",
    "# Note that right now this is not vectorized along X (in the mini-batch direction).\n",
    "# You should modify the code so it is!!"
   ]
  },
  {
   "cell_type": "code",
   "execution_count": null,
   "metadata": {},
   "outputs": [],
   "source": [
    "DeuxLNN = Numpy_NN(10)"
   ]
  },
  {
   "cell_type": "code",
   "execution_count": null,
   "metadata": {},
   "outputs": [],
   "source": [
    "#Define the log likelihood, the log prior, and the log posterior\n",
    "import emcee\n",
    "\n",
    "def log_likelihood(W_1, W_2, b_1, b_2, X, Yobs, yerr):\n",
    "    y_model = NumpyNN_forward_pass(X, W_1, W_2, b_1, b_2)\n",
    "    chi2 = (Yobs - y_model)**2 / (yerr**2)\n",
    "    return np.sum(-chi2 / 2)\n",
    "\n",
    "def log_prior(W_1, W_2, b_1, b_2):\n",
    "    # This should return a zero-centered Gaussian for each weight of the network.\n",
    "\n",
    "def log_posterior(theta, x, y, yerr):\n",
    "    lp = log_prior(theta)\n",
    "    if np.isfinite(lp):\n",
    "        lp += log_likelihood(theta, x, y, yerr)\n",
    "    return lp"
   ]
  },
  {
   "cell_type": "code",
   "execution_count": null,
   "metadata": {},
   "outputs": [],
   "source": [
    "# create a small ball around the MLE the initialize each walker\n",
    "nwalkers, ndim = 30, 2*H+2\n",
    "# theta_guess = a 1D array with all the weights and biases with their initial value\n",
    "pos = theta_guess + 1e-4 * np.random.randn(nwalkers, ndim)\n",
    "\n",
    "# run emcee\n",
    "sampler = emcee.EnsembleSampler(nwalkers, ndim, log_posterior, args=(X, Yobs, 0.5))\n",
    "sampler.run_mcmc(pos, 10000, progress=True);"
   ]
  },
  {
   "cell_type": "code",
   "execution_count": null,
   "metadata": {},
   "outputs": [],
   "source": [
    "#Plot the resulting chains. When it is changing is called the 'burn in' phase. We are only interested\n",
    "#in the part where they have become stationary. One should always inspect visually for stationarity. \n",
    "\n",
    "fig, axes = plt.subplots(ndim, sharex=True)\n",
    "mcmc_samples = sampler.get_chain()\n",
    "#labels = an array with the name of the weights of the network (maybe indexing...)\n",
    "for i in range(ndim):\n",
    "    ax = axes[i]\n",
    "    ax.plot(mcmc_samples[:, :, i], \"k\", alpha=0.3, rasterized=True)\n",
    "    ax.set_xlim(0, 1000)\n",
    "    ax.set_ylabel(labels[i])\n",
    "\n",
    "axes[-1].set_xlabel(\"step number\");"
   ]
  },
  {
   "cell_type": "markdown",
   "metadata": {},
   "source": [
    "We now need to thin out the chains because the sample are correlated. For that emcee has a method to compute the auto-correlation time of each parameters. We can then combine the samples across all walkers:"
   ]
  },
  {
   "cell_type": "code",
   "execution_count": null,
   "metadata": {},
   "outputs": [],
   "source": [
    "tau = sampler.get_autocorr_time()\n",
    "print(\"Autocorrelation time:\", tau)\n",
    "mcmc_samples = sampler.get_chain(discard=300, thin=np.int32(np.max(tau)/2), flat=True)\n",
    "print(\"Remaining samples:\", mcmc_samples.shape)"
   ]
  },
  {
   "cell_type": "markdown",
   "metadata": {},
   "source": [
    "We can now write a function that allows us to plot the results. To marginalize over the weights we want to put the test set multiple times though the networks, every time with different weights values sampled from the posterior."
   ]
  },
  {
   "cell_type": "code",
   "execution_count": null,
   "metadata": {},
   "outputs": [],
   "source": []
  }
 ],
 "metadata": {
  "kernelspec": {
   "display_name": "base 3.8",
   "language": "python",
   "name": "base3.8"
  },
  "language_info": {
   "codemirror_mode": {
    "name": "ipython",
    "version": 3
   },
   "file_extension": ".py",
   "mimetype": "text/x-python",
   "name": "python",
   "nbconvert_exporter": "python",
   "pygments_lexer": "ipython3",
   "version": "3.8.13"
  }
 },
 "nbformat": 4,
 "nbformat_minor": 5
}
