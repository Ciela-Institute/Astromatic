{
  "nbformat": 4,
  "nbformat_minor": 0,
  "metadata": {
    "colab": {
      "name": "mnist-vae.ipynb",
      "provenance": [],
      "collapsed_sections": []
    },
    "kernelspec": {
      "name": "python3",
      "display_name": "Python 3"
    },
    "language_info": {
      "name": "python"
    },
    "accelerator": "GPU",
    "gpuClass": "standard",
    "widgets": {
      "application/vnd.jupyter.widget-state+json": {
        "fc6108341daf4ec8a95dd17314286b14": {
          "model_module": "@jupyter-widgets/controls",
          "model_name": "HBoxModel",
          "model_module_version": "1.5.0",
          "state": {
            "_dom_classes": [],
            "_model_module": "@jupyter-widgets/controls",
            "_model_module_version": "1.5.0",
            "_model_name": "HBoxModel",
            "_view_count": null,
            "_view_module": "@jupyter-widgets/controls",
            "_view_module_version": "1.5.0",
            "_view_name": "HBoxView",
            "box_style": "",
            "children": [
              "IPY_MODEL_5dc623ef545348bcadc6c4062254aea2",
              "IPY_MODEL_d77c213dc837426eb344c3c4dcac5247",
              "IPY_MODEL_fa61c59f3de442de8bec722b7ad118ef"
            ],
            "layout": "IPY_MODEL_3ca29142ce30414182c8b4473bc1dd54"
          }
        },
        "5dc623ef545348bcadc6c4062254aea2": {
          "model_module": "@jupyter-widgets/controls",
          "model_name": "HTMLModel",
          "model_module_version": "1.5.0",
          "state": {
            "_dom_classes": [],
            "_model_module": "@jupyter-widgets/controls",
            "_model_module_version": "1.5.0",
            "_model_name": "HTMLModel",
            "_view_count": null,
            "_view_module": "@jupyter-widgets/controls",
            "_view_module_version": "1.5.0",
            "_view_name": "HTMLView",
            "description": "",
            "description_tooltip": null,
            "layout": "IPY_MODEL_38ae7da7837d4dfdb4a8192c9a7f44c6",
            "placeholder": "​",
            "style": "IPY_MODEL_2945a3411a3845e88dab6f6bde4c1cf4",
            "value": "train loss: 12222, val loss: 2096.6: 100%"
          }
        },
        "d77c213dc837426eb344c3c4dcac5247": {
          "model_module": "@jupyter-widgets/controls",
          "model_name": "FloatProgressModel",
          "model_module_version": "1.5.0",
          "state": {
            "_dom_classes": [],
            "_model_module": "@jupyter-widgets/controls",
            "_model_module_version": "1.5.0",
            "_model_name": "FloatProgressModel",
            "_view_count": null,
            "_view_module": "@jupyter-widgets/controls",
            "_view_module_version": "1.5.0",
            "_view_name": "ProgressView",
            "bar_style": "success",
            "description": "",
            "description_tooltip": null,
            "layout": "IPY_MODEL_6936afb6c7964993b5c2dbd724d1fdfd",
            "max": 10,
            "min": 0,
            "orientation": "horizontal",
            "style": "IPY_MODEL_6c3232d12f0443249672540875a617f2",
            "value": 10
          }
        },
        "fa61c59f3de442de8bec722b7ad118ef": {
          "model_module": "@jupyter-widgets/controls",
          "model_name": "HTMLModel",
          "model_module_version": "1.5.0",
          "state": {
            "_dom_classes": [],
            "_model_module": "@jupyter-widgets/controls",
            "_model_module_version": "1.5.0",
            "_model_name": "HTMLModel",
            "_view_count": null,
            "_view_module": "@jupyter-widgets/controls",
            "_view_module_version": "1.5.0",
            "_view_name": "HTMLView",
            "description": "",
            "description_tooltip": null,
            "layout": "IPY_MODEL_644136536ce441daa4ff24e3330ea753",
            "placeholder": "​",
            "style": "IPY_MODEL_c0cfadab76fc45a89b543ac0ea2695ff",
            "value": " 10/10 [01:41&lt;00:00, 10.30s/it]"
          }
        },
        "3ca29142ce30414182c8b4473bc1dd54": {
          "model_module": "@jupyter-widgets/base",
          "model_name": "LayoutModel",
          "model_module_version": "1.2.0",
          "state": {
            "_model_module": "@jupyter-widgets/base",
            "_model_module_version": "1.2.0",
            "_model_name": "LayoutModel",
            "_view_count": null,
            "_view_module": "@jupyter-widgets/base",
            "_view_module_version": "1.2.0",
            "_view_name": "LayoutView",
            "align_content": null,
            "align_items": null,
            "align_self": null,
            "border": null,
            "bottom": null,
            "display": null,
            "flex": null,
            "flex_flow": null,
            "grid_area": null,
            "grid_auto_columns": null,
            "grid_auto_flow": null,
            "grid_auto_rows": null,
            "grid_column": null,
            "grid_gap": null,
            "grid_row": null,
            "grid_template_areas": null,
            "grid_template_columns": null,
            "grid_template_rows": null,
            "height": null,
            "justify_content": null,
            "justify_items": null,
            "left": null,
            "margin": null,
            "max_height": null,
            "max_width": null,
            "min_height": null,
            "min_width": null,
            "object_fit": null,
            "object_position": null,
            "order": null,
            "overflow": null,
            "overflow_x": null,
            "overflow_y": null,
            "padding": null,
            "right": null,
            "top": null,
            "visibility": null,
            "width": null
          }
        },
        "38ae7da7837d4dfdb4a8192c9a7f44c6": {
          "model_module": "@jupyter-widgets/base",
          "model_name": "LayoutModel",
          "model_module_version": "1.2.0",
          "state": {
            "_model_module": "@jupyter-widgets/base",
            "_model_module_version": "1.2.0",
            "_model_name": "LayoutModel",
            "_view_count": null,
            "_view_module": "@jupyter-widgets/base",
            "_view_module_version": "1.2.0",
            "_view_name": "LayoutView",
            "align_content": null,
            "align_items": null,
            "align_self": null,
            "border": null,
            "bottom": null,
            "display": null,
            "flex": null,
            "flex_flow": null,
            "grid_area": null,
            "grid_auto_columns": null,
            "grid_auto_flow": null,
            "grid_auto_rows": null,
            "grid_column": null,
            "grid_gap": null,
            "grid_row": null,
            "grid_template_areas": null,
            "grid_template_columns": null,
            "grid_template_rows": null,
            "height": null,
            "justify_content": null,
            "justify_items": null,
            "left": null,
            "margin": null,
            "max_height": null,
            "max_width": null,
            "min_height": null,
            "min_width": null,
            "object_fit": null,
            "object_position": null,
            "order": null,
            "overflow": null,
            "overflow_x": null,
            "overflow_y": null,
            "padding": null,
            "right": null,
            "top": null,
            "visibility": null,
            "width": null
          }
        },
        "2945a3411a3845e88dab6f6bde4c1cf4": {
          "model_module": "@jupyter-widgets/controls",
          "model_name": "DescriptionStyleModel",
          "model_module_version": "1.5.0",
          "state": {
            "_model_module": "@jupyter-widgets/controls",
            "_model_module_version": "1.5.0",
            "_model_name": "DescriptionStyleModel",
            "_view_count": null,
            "_view_module": "@jupyter-widgets/base",
            "_view_module_version": "1.2.0",
            "_view_name": "StyleView",
            "description_width": ""
          }
        },
        "6936afb6c7964993b5c2dbd724d1fdfd": {
          "model_module": "@jupyter-widgets/base",
          "model_name": "LayoutModel",
          "model_module_version": "1.2.0",
          "state": {
            "_model_module": "@jupyter-widgets/base",
            "_model_module_version": "1.2.0",
            "_model_name": "LayoutModel",
            "_view_count": null,
            "_view_module": "@jupyter-widgets/base",
            "_view_module_version": "1.2.0",
            "_view_name": "LayoutView",
            "align_content": null,
            "align_items": null,
            "align_self": null,
            "border": null,
            "bottom": null,
            "display": null,
            "flex": null,
            "flex_flow": null,
            "grid_area": null,
            "grid_auto_columns": null,
            "grid_auto_flow": null,
            "grid_auto_rows": null,
            "grid_column": null,
            "grid_gap": null,
            "grid_row": null,
            "grid_template_areas": null,
            "grid_template_columns": null,
            "grid_template_rows": null,
            "height": null,
            "justify_content": null,
            "justify_items": null,
            "left": null,
            "margin": null,
            "max_height": null,
            "max_width": null,
            "min_height": null,
            "min_width": null,
            "object_fit": null,
            "object_position": null,
            "order": null,
            "overflow": null,
            "overflow_x": null,
            "overflow_y": null,
            "padding": null,
            "right": null,
            "top": null,
            "visibility": null,
            "width": null
          }
        },
        "6c3232d12f0443249672540875a617f2": {
          "model_module": "@jupyter-widgets/controls",
          "model_name": "ProgressStyleModel",
          "model_module_version": "1.5.0",
          "state": {
            "_model_module": "@jupyter-widgets/controls",
            "_model_module_version": "1.5.0",
            "_model_name": "ProgressStyleModel",
            "_view_count": null,
            "_view_module": "@jupyter-widgets/base",
            "_view_module_version": "1.2.0",
            "_view_name": "StyleView",
            "bar_color": null,
            "description_width": ""
          }
        },
        "644136536ce441daa4ff24e3330ea753": {
          "model_module": "@jupyter-widgets/base",
          "model_name": "LayoutModel",
          "model_module_version": "1.2.0",
          "state": {
            "_model_module": "@jupyter-widgets/base",
            "_model_module_version": "1.2.0",
            "_model_name": "LayoutModel",
            "_view_count": null,
            "_view_module": "@jupyter-widgets/base",
            "_view_module_version": "1.2.0",
            "_view_name": "LayoutView",
            "align_content": null,
            "align_items": null,
            "align_self": null,
            "border": null,
            "bottom": null,
            "display": null,
            "flex": null,
            "flex_flow": null,
            "grid_area": null,
            "grid_auto_columns": null,
            "grid_auto_flow": null,
            "grid_auto_rows": null,
            "grid_column": null,
            "grid_gap": null,
            "grid_row": null,
            "grid_template_areas": null,
            "grid_template_columns": null,
            "grid_template_rows": null,
            "height": null,
            "justify_content": null,
            "justify_items": null,
            "left": null,
            "margin": null,
            "max_height": null,
            "max_width": null,
            "min_height": null,
            "min_width": null,
            "object_fit": null,
            "object_position": null,
            "order": null,
            "overflow": null,
            "overflow_x": null,
            "overflow_y": null,
            "padding": null,
            "right": null,
            "top": null,
            "visibility": null,
            "width": null
          }
        },
        "c0cfadab76fc45a89b543ac0ea2695ff": {
          "model_module": "@jupyter-widgets/controls",
          "model_name": "DescriptionStyleModel",
          "model_module_version": "1.5.0",
          "state": {
            "_model_module": "@jupyter-widgets/controls",
            "_model_module_version": "1.5.0",
            "_model_name": "DescriptionStyleModel",
            "_view_count": null,
            "_view_module": "@jupyter-widgets/base",
            "_view_module_version": "1.2.0",
            "_view_name": "StyleView",
            "description_width": ""
          }
        }
      }
    }
  },
  "cells": [
    {
      "cell_type": "markdown",
      "source": [
        "## Variational autoencoder for MNIST\n",
        "\n",
        "Inspired by https://github.com/lyeoni/pytorch-mnist-VAE/"
      ],
      "metadata": {
        "id": "dacBR8Bxbk9P"
      }
    },
    {
      "cell_type": "code",
      "execution_count": 17,
      "metadata": {
        "id": "ejCC2MWfCY2P"
      },
      "outputs": [],
      "source": [
        "import matplotlib.pyplot as plt\n",
        "import torch\n",
        "import torch.distributions as dist\n",
        "import torch.nn as nn\n",
        "import torch.nn.functional as F\n",
        "import torch.optim as optim\n",
        "from torchvision import datasets, transforms\n",
        "from tqdm.auto import trange, tqdm\n",
        "\n",
        "\n",
        "# Use GPU if possible\n",
        "if torch.cuda.is_available():\n",
        "    DEVICE = \"cuda:0\"\n",
        "else:\n",
        "    DEVICE = \"cpu\""
      ]
    },
    {
      "cell_type": "code",
      "source": [
        "# Get MNIST dataset\n",
        "train_dataset = datasets.MNIST(\n",
        "    root='./mnist_data/', train=True, transform=transforms.ToTensor(), download=True\n",
        ")\n",
        "val_dataset = datasets.MNIST(\n",
        "    root='./mnist_data/', train=False, transform=transforms.ToTensor(), download=False\n",
        ")\n",
        "# Image dimension\n",
        "n_pix = train_dataset[0][0].shape[-1]"
      ],
      "metadata": {
        "id": "GdM7yuXMCxBY"
      },
      "execution_count": 42,
      "outputs": []
    },
    {
      "cell_type": "code",
      "source": [
        "# Set up dataloaders\n",
        "batch_size = 128\n",
        "num_workers = 2\n",
        "train_loader = torch.utils.data.DataLoader(\n",
        "    dataset=train_dataset, batch_size=batch_size, shuffle=True, num_workers=num_workers\n",
        ")\n",
        "val_loader = torch.utils.data.DataLoader(\n",
        "    dataset=val_dataset, batch_size=batch_size, shuffle=False, num_workers=num_workers\n",
        ")"
      ],
      "metadata": {
        "id": "jaEfgBgcCuTN"
      },
      "execution_count": 45,
      "outputs": []
    },
    {
      "cell_type": "code",
      "source": [
        "class Encoder(nn.Module):\n",
        "    def __init__(self, z_dim, hidden_dim):\n",
        "        super().__init__()\n",
        "        # Shared layers\n",
        "        self.shared_net = nn.Sequential(\n",
        "            nn.Linear(n_pix**2, hidden_dim),\n",
        "            nn.ReLU(inplace=True),\n",
        "            nn.Linear(hidden_dim, hidden_dim),\n",
        "            nn.ReLU(inplace=True)\n",
        "        )\n",
        "        # Final linear layers for computing mean and log std\n",
        "        self.mu_net = nn.Linear(hidden_dim, z_dim)\n",
        "        self.log_var_net = nn.Linear(hidden_dim, z_dim)\n",
        "\n",
        "    def forward(self, x):\n",
        "        z = x.view(-1, n_pix**2)  # flatten\n",
        "        z = self.shared_net(z)\n",
        "        mu = self.mu_net(z)\n",
        "        log_var = self.log_var_net(z)\n",
        "        return mu, log_var\n",
        "\n",
        "\n",
        "class Decoder(nn.Module):\n",
        "    def __init__(self, z_dim, hidden_dim):\n",
        "        super().__init__()\n",
        "        self.net = nn.Sequential(\n",
        "            nn.Linear(z_dim, hidden_dim),\n",
        "            nn.ReLU(inplace=True),\n",
        "            nn.Linear(hidden_dim, hidden_dim),\n",
        "            nn.ReLU(inplace=True),\n",
        "            nn.Linear(hidden_dim, n_pix**2),\n",
        "            nn.Sigmoid()  # ensures output is in [0, 1]\n",
        "        )\n",
        "    \n",
        "    def forward(self, z):\n",
        "        # Mean of decoded distribution\n",
        "        return self.net(z).view(-1, 1, n_pix, n_pix)\n",
        "\n",
        "\n",
        "class VAE(nn.Module):\n",
        "    def __init__(self, z_dim, hidden_dim_enc, hidden_dim_dec):\n",
        "        super().__init__()\n",
        "        self.z_dim = z_dim\n",
        "        self.encoder = Encoder(z_dim, hidden_dim_enc)\n",
        "        self.decoder = Decoder(z_dim, hidden_dim_dec)\n",
        "        self.register_buffer(\"prior_mu\", torch.zeros(z_dim))\n",
        "        self.register_buffer(\"prior_std\", torch.ones(z_dim))\n",
        "    \n",
        "    def sample_z(self, mu, log_var):\n",
        "        # Apply reparametrization trick\n",
        "        sigma = (0.5 * log_var).exp()\n",
        "        eps = torch.randn(self.z_dim, device=mu.device)\n",
        "        return mu + eps * sigma\n",
        "    \n",
        "    def forward(self, x):\n",
        "        # Encode x, sample z and decode\n",
        "        mu, log_var = self.encoder(x)\n",
        "        z = self.sample_z(mu, log_var)\n",
        "        x_recon = self.decoder(z)\n",
        "        return x_recon, mu, log_var\n",
        "    \n",
        "    def generate(self, n=1):\n",
        "        z = dist.Normal(self.prior_mu, self.prior_std).sample((n,))\n",
        "        return self.decoder(z)\n",
        "\n",
        "\n",
        "def get_loss(x, x_recon, mu, log_var):\n",
        "    bce = F.binary_cross_entropy(x_recon, x, reduction=\"sum\")\n",
        "    kl = -0.5 * (1 + log_var - mu**2 - log_var.exp()).sum()\n",
        "    return bce + kl"
      ],
      "metadata": {
        "id": "uILR8V0yDAsB"
      },
      "execution_count": 32,
      "outputs": []
    },
    {
      "cell_type": "code",
      "source": [
        "# Initialize networks\n",
        "vae = VAE(z_dim=4, hidden_dim_enc=512, hidden_dim_dec=512)\n",
        "vae.to(DEVICE)\n",
        "\n",
        "# Train\n",
        "vae.train()\n",
        "optimizer = optim.Adam(vae.parameters(), lr=4e-4)\n",
        "n_epochs = 10\n",
        "logging_frequency = 1\n",
        "tr_losses = []\n",
        "val_losses = []\n",
        "with trange(n_epochs) as pbar:\n",
        "    for epoch in pbar:\n",
        "        # Training loop\n",
        "        for batch_idx, (x, _) in enumerate(train_loader):\n",
        "            # Put data on GPU if necessary\n",
        "            x = x.to(DEVICE)\n",
        "            # Clear gradients\n",
        "            optimizer.zero_grad()\n",
        "            # Get encoded distribution's parameters and the reconstruction\n",
        "            x_recon, mu, log_var = vae(x)\n",
        "            # Compute loss\n",
        "            loss = get_loss(x, x_recon, mu, log_var)\n",
        "            # Backpropagate\n",
        "            loss.backward()\n",
        "            # Take optimization step\n",
        "            optimizer.step()\n",
        "\n",
        "            # Logging\n",
        "            tr_losses.append(loss.item())\n",
        "            if epoch % logging_frequency == 0:\n",
        "                if len(val_losses) == 0:\n",
        "                    pbar.set_description(f\"train loss: {tr_losses[-1]:.5g}\")\n",
        "                else:\n",
        "                    pbar.set_description(\n",
        "                        f\"train loss: {tr_losses[-1]:.5g}, val loss: {val_losses[-1]:.5g}\"\n",
        "                    )\n",
        "\n",
        "        # Validation loop\n",
        "        vae.eval()\n",
        "        # Accelerates calculations by not saving the computational graph\n",
        "        with torch.no_grad():\n",
        "            for batch_idx, (x, _) in enumerate(val_loader):\n",
        "                # Compute loss\n",
        "                x = x.to(DEVICE)\n",
        "                x_recon, mu, log_var = vae(x)\n",
        "                loss = get_loss(x, x_recon, mu, log_var)\n",
        "                val_losses.append(loss.item())\n",
        "\n",
        "                # Logging\n",
        "                if epoch % logging_frequency == 0:\n",
        "                    pbar.set_description(\n",
        "                        f\"train loss: {tr_losses[-1]:.5g}, val loss: {val_losses[-1]:.5g}\"\n",
        "                    )\n",
        "\n",
        "vae.eval();  # semicolon hides output"
      ],
      "metadata": {
        "colab": {
          "base_uri": "https://localhost:8080/",
          "height": 445,
          "referenced_widgets": [
            "fc6108341daf4ec8a95dd17314286b14",
            "5dc623ef545348bcadc6c4062254aea2",
            "d77c213dc837426eb344c3c4dcac5247",
            "fa61c59f3de442de8bec722b7ad118ef",
            "3ca29142ce30414182c8b4473bc1dd54",
            "38ae7da7837d4dfdb4a8192c9a7f44c6",
            "2945a3411a3845e88dab6f6bde4c1cf4",
            "6936afb6c7964993b5c2dbd724d1fdfd",
            "6c3232d12f0443249672540875a617f2",
            "644136536ce441daa4ff24e3330ea753",
            "c0cfadab76fc45a89b543ac0ea2695ff"
          ]
        },
        "id": "0-541-aGFgu_",
        "outputId": "ffb9c1b1-6d55-4ed8-c68e-46bcef9a4405"
      },
      "execution_count": 63,
      "outputs": [
        {
          "output_type": "display_data",
          "data": {
            "text/plain": [
              "  0%|          | 0/10 [00:00<?, ?it/s]"
            ],
            "application/vnd.jupyter.widget-view+json": {
              "version_major": 2,
              "version_minor": 0,
              "model_id": "fc6108341daf4ec8a95dd17314286b14"
            }
          },
          "metadata": {}
        },
        {
          "output_type": "execute_result",
          "data": {
            "text/plain": [
              "VAE(\n",
              "  (encoder): Encoder(\n",
              "    (shared_net): Sequential(\n",
              "      (0): Linear(in_features=784, out_features=512, bias=True)\n",
              "      (1): ReLU(inplace=True)\n",
              "      (2): Linear(in_features=512, out_features=512, bias=True)\n",
              "      (3): ReLU(inplace=True)\n",
              "    )\n",
              "    (mu_net): Linear(in_features=512, out_features=4, bias=True)\n",
              "    (log_var_net): Linear(in_features=512, out_features=4, bias=True)\n",
              "  )\n",
              "  (decoder): Decoder(\n",
              "    (net): Sequential(\n",
              "      (0): Linear(in_features=4, out_features=512, bias=True)\n",
              "      (1): ReLU(inplace=True)\n",
              "      (2): Linear(in_features=512, out_features=512, bias=True)\n",
              "      (3): ReLU(inplace=True)\n",
              "      (4): Linear(in_features=512, out_features=784, bias=True)\n",
              "      (5): Sigmoid()\n",
              "    )\n",
              "  )\n",
              ")"
            ]
          },
          "metadata": {},
          "execution_count": 63
        }
      ]
    },
    {
      "cell_type": "code",
      "source": [
        "# Plot training and validation loss to check for overfitting\n",
        "plt.figure(figsize=(10, 5))\n",
        "plt.plot(torch.linspace(0, n_epochs, len(tr_losses)), tr_losses, label=\"Training\")\n",
        "plt.plot(torch.linspace(0, n_epochs, len(val_losses)), val_losses, label=\"Validation\")\n",
        "plt.xlabel(\"Epoch\")\n",
        "plt.ylabel(\"Loss\")\n",
        "plt.legend()"
      ],
      "metadata": {
        "colab": {
          "base_uri": "https://localhost:8080/",
          "height": 352
        },
        "id": "gUPVquMPTtXN",
        "outputId": "1eb5225b-d4a2-4a00-e3e4-fbfe247fe04c"
      },
      "execution_count": 68,
      "outputs": [
        {
          "output_type": "execute_result",
          "data": {
            "text/plain": [
              "<matplotlib.legend.Legend at 0x7fb568167a10>"
            ]
          },
          "metadata": {},
          "execution_count": 68
        },
        {
          "output_type": "display_data",
          "data": {
            "text/plain": [
              "<Figure size 720x360 with 1 Axes>"
            ],
            "image/png": "[encoded data removed]"
          },
          "metadata": {
            "needs_background": "light"
          }
        }
      ]
    },
    {
      "cell_type": "code",
      "source": [
        "# Plot generated digits!\n",
        "sqrt_n_samples = 5\n",
        "with torch.no_grad():\n",
        "    x_samples = vae.generate(sqrt_n_samples**2).detach().cpu()[:, 0, :, :]\n",
        "\n",
        "fig, axes = plt.subplots(\n",
        "    sqrt_n_samples, sqrt_n_samples, figsize=(2 * sqrt_n_samples, 2 * sqrt_n_samples)\n",
        ")\n",
        "for x, ax in zip(x_samples, axes.flatten()):\n",
        "    ax.imshow(x, cmap=\"Greys\")\n",
        "    ax.set_xticks([])\n",
        "    ax.set_yticks([])"
      ],
      "metadata": {
        "colab": {
          "base_uri": "https://localhost:8080/",
          "height": 578
        },
        "id": "oe4JnERwV7jp",
        "outputId": "fda3de1e-3e5e-4059-b0cf-3a15fff905ae"
      },
      "execution_count": 69,
      "outputs": [
        {
          "output_type": "display_data",
          "data": {
            "text/plain": [
              "<Figure size 720x720 with 25 Axes>"
            ],
            "image/png": "[encoded data removed]"
          },
          "metadata": {}
        }
      ]
    },
    {
      "cell_type": "code",
      "source": [
        ""
      ],
      "metadata": {
        "id": "iXYU7E6vYamT"
      },
      "execution_count": null,
      "outputs": []
    }
  ]
}